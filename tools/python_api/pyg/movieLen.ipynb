{
 "cells": [
  {
   "cell_type": "code",
   "execution_count": 1,
   "metadata": {},
   "outputs": [
    {
     "name": "stdout",
     "output_type": "stream",
     "text": [
      "cd external && \\\n",
      "\tmkdir -p build && \\\n",
      "\tcd build && \\\n",
      "\tcmake    -DCMAKE_BUILD_TYPE=Release ../ && \\\n",
      "\tcmake --build . --config Release -- -j 20\n",
      "-- Configuring done\n",
      "-- Generating done\n",
      "-- Build files have been written to: /Users/lc/Developer/kuzu/external/build\n",
      "[100%] Built target apache_arrow\n",
      "mkdir -p build/release && \\\n",
      "\tcd build/release && \\\n",
      "\tcmake    -DCMAKE_BUILD_TYPE=Release ../.. && \\\n",
      "\tcmake --build . --config Release -- -j 20\n",
      "-- pybind11 v2.11.0 dev1\n",
      "-- Configuring done\n",
      "-- Generating done\n",
      "-- Build files have been written to: /Users/lc/Developer/kuzu/build/release\n",
      "[  1%] Built target kuzu_transaction\n",
      "[  2%] Built target utf8proc\n",
      "[  2%] Built target kuzu_common_csv_reader\n",
      "[  2%] Built target kuzu_common_data_chunk\n",
      "[  3%] Built target kuzu_common_task_system\n",
      "[  4%] Built target kuzu_catalog\n",
      "[  4%] Built target kuzu_common_vector\n",
      "[  5%] Built target kuzu_common_arrow\n",
      "[  6%] Built target kuzu_binder_expression\n",
      "[  6%] Built target kuzu_binder\n",
      "[  7%] Built target kuzu_optimizer\n",
      "[  8%] Built target kuzu_binder_query\n",
      "[  9%] Built target kuzu_expression_evaluator\n",
      "[  9%] Built target kuzu_parser_expression\n",
      "[  9%] Built target kuzu_parser\n",
      "[ 10%] Built target kuzu_main\n",
      "[ 10%] Built target kuzu_parser_query\n",
      "[ 12%] Built target kuzu_common_types\n",
      "[ 14%] Built target kuzu_binder_bind\n",
      "[ 15%] Built target kuzu_parser_antlr_parser\n",
      "[ 16%] Built target kuzu_processor\n",
      "[ 18%] Built target kuzu_common\n",
      "[ 20%] Built target kuzu_binder_bind_expression\n",
      "[ 20%] Built target kuzu_processor_operator_table_scan\n",
      "[ 20%] Built target kuzu_processor_operator_hash_join\n",
      "[ 21%] Built target kuzu_processor_operator_copy\n",
      "[ 24%] Built target kuzu_function\n",
      "[ 25%] Built target kuzu_processor_operator_intersect\n",
      "[ 27%] Built target kuzu_planner\n",
      "[ 28%] Built target kuzu_processor_operator_aggregate\n",
      "[ 28%] Built target kuzu_processor_operator_ver_length_extend\n",
      "[ 29%] Built target kuzu_processor_operator_update\n",
      "[ 30%] Built target kuzu_processor_result\n",
      "[ 35%] Built target re2\n",
      "[ 36%] Built target kuzu_processor_operator_order_by\n",
      "[ 38%] Built target kuzu_processor_operator_scan\n",
      "[ 40%] Built target kuzu_processor_operator_ddl\n",
      "[ 42%] Built target kuzu_storage_buffer_manager\n",
      "[ 43%] Built target kuzu_storage\n",
      "[ 44%] Built target kuzu_storage_in_mem_storage_structure\n",
      "[ 44%] Built target kuzu_storage_index\n",
      "[ 44%] Built target kuzu_storage_wal\n",
      "[ 44%] Built target kuzu_storage_in_mem_csv_copier\n",
      "[ 47%] Built target kuzu_processor_operator\n",
      "[ 52%] Built target kuzu_planner_operator\n",
      "[ 56%] Built target kuzu_storage_structure\n",
      "[ 56%] Built target kuzu_storage_lists\n",
      "[ 57%] Built target kuzu_storage_store\n",
      "[ 63%] Built target kuzu_processor_mapper\n",
      "[ 96%] Built target antlr4_runtime\n",
      "[ 97%] Built target antlr4_cypher\n",
      "[ 98%] Built target kuzu\n",
      "[ 99%] Built target kuzu_shell\n",
      "[100%] Built target _kuzu\n"
     ]
    }
   ],
   "source": [
    "!cd ../../../ && make release NUM_THREADS=20"
   ]
  },
  {
   "cell_type": "code",
   "execution_count": 1,
   "metadata": {},
   "outputs": [],
   "source": [
    "import sys, os\n",
    "import warnings\n",
    "sys.path.append('../build/')\n",
    "\n",
    "import kuzu\n",
    "import torch\n",
    "import tqdm\n",
    "import pandas as pd\n",
    "from torch.nn import Linear\n",
    "import torch.nn.functional as F\n",
    "from sentence_transformers import SentenceTransformer\n",
    "\n",
    "import torch_geometric.transforms as T\n",
    "from torch_geometric.nn import SAGEConv, to_hetero\n",
    "\n",
    "from torch_geometric.data import HeteroData\n",
    "from torch_geometric.transforms import ToUndirected, RandomLinkSplit"
   ]
  },
  {
   "cell_type": "code",
   "execution_count": 2,
   "metadata": {},
   "outputs": [],
   "source": [
    "db_path = './ml-small'\n",
    "if os.path.exists(db_path):\n",
    "    os.system('rm -rf ' + db_path)\n",
    "    \n",
    "def load_data(connection):\n",
    "    print('loading data...')\n",
    "    connection.execute('CREATE NODE TABLE movie (movieId INT64, title STRING, genres STRING, PRIMARY KEY (movieId))')\n",
    "    connection.execute('CREATE NODE TABLE user (userId INT64, PRIMARY KEY (userId))')\n",
    "    connection.execute('CREATE REL TABLE rating (FROM user TO movie, rating DOUBLE, timestamp INT64)')\n",
    "\n",
    "    connection.execute('COPY movie FROM \"./movieLen-small/movies.csv\" (HEADER=TRUE)')\n",
    "    connection.execute('COPY user FROM \"./movieLen-small/users.csv\" (HEADER=TRUE)')\n",
    "    connection.execute('COPY rating FROM \"./movieLen-small/ratings.csv\" (HEADER=TRUE)')\n",
    "\n",
    "db = kuzu.Database(db_path)\n",
    "conn = kuzu.Connection(db)"
   ]
  },
  {
   "cell_type": "code",
   "execution_count": 3,
   "metadata": {},
   "outputs": [
    {
     "name": "stdout",
     "output_type": "stream",
     "text": [
      "loading data...\n"
     ]
    }
   ],
   "source": [
    "load_data(conn)"
   ]
  },
  {
   "cell_type": "code",
   "execution_count": 4,
   "metadata": {},
   "outputs": [
    {
     "name": "stderr",
     "output_type": "stream",
     "text": [
      "/Users/lc/Developer/kuzu/tools/python_api/pyg/../build/kuzu/torch_geometric_result_converter.py:210: UserWarning: Property movie.genres of type STRING is not supported by torch_geometric. The property is marked as unconverted.\n",
      "  warnings.warn(message)\n",
      "/Users/lc/Developer/kuzu/tools/python_api/pyg/../build/kuzu/torch_geometric_result_converter.py:210: UserWarning: Property movie.title of type STRING is not supported by torch_geometric. The property is marked as unconverted.\n",
      "  warnings.warn(message)\n"
     ]
    }
   ],
   "source": [
    "res = conn.execute('MATCH (u:user)-[r:rating]->(m:movie) RETURN u, r, m')\n",
    "torch_geometric_data, pos_to_idx, unconverted_properties, edge_properties = res.get_as_torch_geometric()"
   ]
  },
  {
   "cell_type": "code",
   "execution_count": 5,
   "metadata": {},
   "outputs": [
    {
     "data": {
      "text/plain": [
       "HeteroData(\n",
       "  \u001b[1muser\u001b[0m={ userId=[610] },\n",
       "  \u001b[1mmovie\u001b[0m={ movieId=[9724] },\n",
       "  \u001b[1m(user, to, movie)\u001b[0m={ edge_index=[2, 100836] }\n",
       ")"
      ]
     },
     "execution_count": 5,
     "metadata": {},
     "output_type": "execute_result"
    }
   ],
   "source": [
    "torch_geometric_data"
   ]
  },
  {
   "cell_type": "code",
   "execution_count": 6,
   "metadata": {},
   "outputs": [],
   "source": [
    "torch_geometric_data['user', 'movie'].edge_label = torch.FloatTensor(edge_properties['user', 'movie']['rating'])"
   ]
  },
  {
   "cell_type": "code",
   "execution_count": 7,
   "metadata": {},
   "outputs": [],
   "source": [
    "torch_geometric_data['user'].x = torch.eye(len(torch_geometric_data['user'].userId))"
   ]
  },
  {
   "cell_type": "code",
   "execution_count": 8,
   "metadata": {},
   "outputs": [
    {
     "data": {
      "text/plain": [
       "HeteroData(\n",
       "  \u001b[1muser\u001b[0m={\n",
       "    userId=[610],\n",
       "    x=[610, 610]\n",
       "  },\n",
       "  \u001b[1mmovie\u001b[0m={ movieId=[9724] },\n",
       "  \u001b[1m(user, to, movie)\u001b[0m={\n",
       "    edge_index=[2, 100836],\n",
       "    edge_label=[100836]\n",
       "  }\n",
       ")"
      ]
     },
     "execution_count": 8,
     "metadata": {},
     "output_type": "execute_result"
    }
   ],
   "source": [
    "torch_geometric_data"
   ]
  },
  {
   "cell_type": "code",
   "execution_count": 9,
   "metadata": {},
   "outputs": [],
   "source": [
    "s = unconverted_properties['movie']['title'][0]"
   ]
  },
  {
   "cell_type": "code",
   "execution_count": 10,
   "metadata": {},
   "outputs": [],
   "source": [
    "def extract_movie_year_from_title(s):\n",
    "    import re\n",
    "    m = re.search(r'\\((\\d{4})\\)', s)\n",
    "    if m:\n",
    "        return int(m.group(1))\n",
    "    else:\n",
    "        return 0"
   ]
  },
  {
   "cell_type": "code",
   "execution_count": 11,
   "metadata": {},
   "outputs": [],
   "source": [
    "years = []\n",
    "for i, s in enumerate(unconverted_properties['movie']['title']):\n",
    "    years.append(extract_movie_year_from_title(s))\n",
    "years = torch.FloatTensor(years)\n",
    "years -= years.min()\n",
    "years /= years.max()"
   ]
  },
  {
   "cell_type": "code",
   "execution_count": 12,
   "metadata": {},
   "outputs": [
    {
     "data": {
      "application/vnd.jupyter.widget-view+json": {
       "model_id": "b48d776cd0374f2086848f88365bc7f7",
       "version_major": 2,
       "version_minor": 0
      },
      "text/plain": [
       "Batches:   0%|          | 0/304 [00:00<?, ?it/s]"
      ]
     },
     "metadata": {},
     "output_type": "display_data"
    }
   ],
   "source": [
    "model = SentenceTransformer('all-MiniLM-L6-v2')\n",
    "with torch.no_grad():\n",
    "    title_embs = model.encode(unconverted_properties['movie']['title'], show_progress_bar=True, convert_to_tensor=True).cpu()"
   ]
  },
  {
   "cell_type": "code",
   "execution_count": 13,
   "metadata": {},
   "outputs": [],
   "source": [
    "df = pd.DataFrame.from_dict(unconverted_properties['movie'])\n",
    "genres_encoded = df['genres'].str.get_dummies('|').values\n",
    "genres_encoded = torch.from_numpy(genres_encoded).to(torch.float)"
   ]
  },
  {
   "cell_type": "code",
   "execution_count": 14,
   "metadata": {},
   "outputs": [],
   "source": [
    "movie_x = torch.cat([years.unsqueeze(1), title_embs, genres_encoded], dim=1)"
   ]
  },
  {
   "cell_type": "code",
   "execution_count": 15,
   "metadata": {},
   "outputs": [],
   "source": [
    "torch_geometric_data['movie'].x = movie_x   "
   ]
  },
  {
   "cell_type": "code",
   "execution_count": 16,
   "metadata": {},
   "outputs": [],
   "source": [
    "del torch_geometric_data['user'].userId\n",
    "del torch_geometric_data['movie'].movieId"
   ]
  },
  {
   "cell_type": "code",
   "execution_count": 17,
   "metadata": {},
   "outputs": [
    {
     "data": {
      "text/plain": [
       "HeteroData(\n",
       "  \u001b[1muser\u001b[0m={ x=[610, 610] },\n",
       "  \u001b[1mmovie\u001b[0m={ x=[9724, 405] },\n",
       "  \u001b[1m(user, to, movie)\u001b[0m={\n",
       "    edge_index=[2, 100836],\n",
       "    edge_label=[100836]\n",
       "  }\n",
       ")"
      ]
     },
     "execution_count": 17,
     "metadata": {},
     "output_type": "execute_result"
    }
   ],
   "source": [
    "torch_geometric_data"
   ]
  },
  {
   "cell_type": "code",
   "execution_count": 18,
   "metadata": {},
   "outputs": [],
   "source": [
    "data = ToUndirected()(torch_geometric_data)\n",
    "del data['movie', 'rev_to', 'user'].edge_label  # Remove \"reverse\" label.\n",
    "\n",
    "# 2. Perform a link-level split into training, validation, and test edges.\n",
    "transform = RandomLinkSplit(\n",
    "    num_val=0.1,\n",
    "    num_test=0.1,\n",
    "    neg_sampling_ratio=0.0,\n",
    "    edge_types=[('user', 'to', 'movie')],\n",
    "    rev_edge_types=[('movie', 'rev_to', 'user')],\n",
    ")\n",
    "train_data, val_data, test_data = transform(data)"
   ]
  },
  {
   "cell_type": "code",
   "execution_count": 19,
   "metadata": {},
   "outputs": [],
   "source": [
    "class GNNEncoder(torch.nn.Module):\n",
    "    def __init__(self, hidden_channels, out_channels):\n",
    "        super().__init__()\n",
    "        self.conv1 = SAGEConv((-1, -1), hidden_channels)\n",
    "        self.conv2 = SAGEConv((-1, -1), out_channels)\n",
    "\n",
    "    def forward(self, x, edge_index):\n",
    "        x = self.conv1(x, edge_index).relu()\n",
    "        x = self.conv2(x, edge_index)\n",
    "        return x\n",
    "\n",
    "\n",
    "class EdgeDecoder(torch.nn.Module):\n",
    "    def __init__(self, hidden_channels):\n",
    "        super().__init__()\n",
    "        self.lin1 = Linear(2 * hidden_channels, hidden_channels)\n",
    "        self.lin2 = Linear(hidden_channels, 1)\n",
    "\n",
    "    def forward(self, z_dict, edge_label_index):\n",
    "        row, col = edge_label_index\n",
    "        z = torch.cat([z_dict['user'][row], z_dict['movie'][col]], dim=-1)\n",
    "\n",
    "        z = self.lin1(z).relu()\n",
    "        z = self.lin2(z)\n",
    "        return z.view(-1)\n",
    "\n",
    "class Model(torch.nn.Module):\n",
    "    def __init__(self, hidden_channels):\n",
    "        super().__init__()\n",
    "        self.encoder = GNNEncoder(hidden_channels, hidden_channels)\n",
    "        self.encoder = to_hetero(self.encoder, data.metadata(), aggr='sum')\n",
    "        self.decoder = EdgeDecoder(hidden_channels)\n",
    "\n",
    "    def forward(self, x_dict, edge_index_dict, edge_label_index):\n",
    "        z_dict = self.encoder(x_dict, edge_index_dict)\n",
    "        return self.decoder(z_dict, edge_label_index)"
   ]
  },
  {
   "cell_type": "code",
   "execution_count": 20,
   "metadata": {},
   "outputs": [
    {
     "ename": "RuntimeError",
     "evalue": "\"bincount_cpu\" not implemented for 'Float'",
     "output_type": "error",
     "traceback": [
      "\u001b[0;31m---------------------------------------------------------------------------\u001b[0m",
      "\u001b[0;31mRuntimeError\u001b[0m                              Traceback (most recent call last)",
      "Cell \u001b[0;32mIn[20], line 1\u001b[0m\n\u001b[0;32m----> 1\u001b[0m weight \u001b[39m=\u001b[39m torch\u001b[39m.\u001b[39;49mbincount(train_data[\u001b[39m'\u001b[39;49m\u001b[39muser\u001b[39;49m\u001b[39m'\u001b[39;49m, \u001b[39m'\u001b[39;49m\u001b[39mmovie\u001b[39;49m\u001b[39m'\u001b[39;49m]\u001b[39m.\u001b[39;49medge_label)\n\u001b[1;32m      2\u001b[0m weight \u001b[39m=\u001b[39m weight\u001b[39m.\u001b[39mmax() \u001b[39m/\u001b[39m weight\n\u001b[1;32m      4\u001b[0m \u001b[39mdef\u001b[39;00m \u001b[39mweighted_mse_loss\u001b[39m(pred, target, weight\u001b[39m=\u001b[39m\u001b[39mNone\u001b[39;00m):\n",
      "\u001b[0;31mRuntimeError\u001b[0m: \"bincount_cpu\" not implemented for 'Float'"
     ]
    }
   ],
   "source": [
    "weight = torch.bincount(train_data['user', 'movie'].edge_label)\n",
    "weight = weight.max() / weight\n",
    "\n",
    "def weighted_mse_loss(pred, target, weight=None):\n",
    "    weight = 1. if weight is None else weight[target].to(pred.dtype)\n",
    "    return (weight * (pred - target.to(pred.dtype)).pow(2)).mean()"
   ]
  }
 ],
 "metadata": {
  "kernelspec": {
   "display_name": "Python 3",
   "language": "python",
   "name": "python3"
  },
  "language_info": {
   "codemirror_mode": {
    "name": "ipython",
    "version": 3
   },
   "file_extension": ".py",
   "mimetype": "text/x-python",
   "name": "python",
   "nbconvert_exporter": "python",
   "pygments_lexer": "ipython3",
   "version": "3.10.9"
  },
  "orig_nbformat": 4,
  "vscode": {
   "interpreter": {
    "hash": "b0fa6594d8f4cbf19f97940f81e996739fb7646882a419484c72d19e05852a7e"
   }
  }
 },
 "nbformat": 4,
 "nbformat_minor": 2
}
